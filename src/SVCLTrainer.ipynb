{
 "cells": [
  {
   "cell_type": "code",
   "execution_count": 1,
   "metadata": {},
   "outputs": [],
   "source": [
    "import numpy as np\n",
    "import pylab as pl\n",
    "import matplotlib.pyplot as plt\n",
    "from sklearn import metrics\n",
    "from sklearn.model_selection import cross_val_predict\n",
    "from sklearn.svm import LinearSVC\n",
    "%matplotlib inline\n",
    "import ReadingFile\n",
    "import PreprocessData\n",
    "\n",
    "def clear(key_params=[]):\n",
    "    X, y = ReadingFile.read_csv('TRAIN_CORPUS.csv')\n",
    "    X = PreprocessData.prepare_data(X, mode='save', key_features=key_params)\n",
    "    return X, y\n",
    "\n",
    "def check_score(X, y, clf, verbose=0):    \n",
    "    predicted = cross_val_predict(clf, X, y, cv=10, verbose=verbose)\n",
    "    return metrics.accuracy_score(y, predicted)"
   ]
  },
  {
   "cell_type": "code",
   "execution_count": 2,
   "metadata": {},
   "outputs": [
    {
     "data": {
      "text/plain": [
       "LinearSVC(C=1.0, class_weight=None, dual=True, fit_intercept=True,\n",
       "     intercept_scaling=1, loss='squared_hinge', max_iter=1000,\n",
       "     multi_class='ovr', penalty='l2', random_state=None, tol=0.0001,\n",
       "     verbose=0)"
      ]
     },
     "execution_count": 2,
     "metadata": {},
     "output_type": "execute_result"
    }
   ],
   "source": [
    "X, y = clear()\n",
    "svm_clf = LinearSVC()\n",
    "svm_clf.fit(X, y)"
   ]
  },
  {
   "cell_type": "code",
   "execution_count": 3,
   "metadata": {},
   "outputs": [
    {
     "data": {
      "text/plain": [
       "[0.7870967741935484, 0.72258064516129028, 0.90322580645161288]"
      ]
     },
     "execution_count": 3,
     "metadata": {},
     "output_type": "execute_result"
    }
   ],
   "source": [
    "# test feature transformation\n",
    "\n",
    "scores = []\n",
    "\n",
    "X, y = ReadingFile.read_csv('TRAIN_CORPUS.csv')\n",
    "scores.append(check_score(X, y, svm_clf))\n",
    "\n",
    "X, y = ReadingFile.read_csv('TRAIN_CORPUS.csv')\n",
    "scores.append(check_score(PreprocessData.prepare_features(X), y, svm_clf))\n",
    "\n",
    "X, y = ReadingFile.read_csv('TRAIN_CORPUS.csv')\n",
    "scores.append(check_score(PreprocessData.prepare_data(X, mode='save'), y, svm_clf))\n",
    "\n",
    "scores"
   ]
  },
  {
   "cell_type": "code",
   "execution_count": 4,
   "metadata": {},
   "outputs": [
    {
     "name": "stdout",
     "output_type": "stream",
     "text": [
      "(1, 0.8193548387096774)\n",
      "(2, 0.8193548387096774)\n",
      "(3, 0.86451612903225805)\n",
      "(4, 0.90322580645161288)\n",
      "(5, 0.91612903225806452)\n",
      "(6, 0.9096774193548387)\n",
      "(7, 0.91612903225806452)\n",
      "(8, 0.92903225806451617)\n",
      "(9, 0.92903225806451617)\n",
      "(10, 0.92903225806451617)\n",
      "(11, 0.93548387096774188)\n",
      "(12, 0.92258064516129035)\n",
      "(13, 0.9096774193548387)\n",
      "(14, 0.90322580645161288)\n",
      "(15, 0.91612903225806452)\n",
      "(16, 0.9096774193548387)\n",
      "(17, 0.90322580645161288)\n",
      "(18, 0.90322580645161288)\n"
     ]
    }
   ],
   "source": [
    "# test feature importances\n",
    "\n",
    "from sklearn.feature_selection import RFE\n",
    "scores = []\n",
    "\n",
    "for i in xrange(18):\n",
    "    X, y = clear()\n",
    "    estimator = LinearSVC()\n",
    "    selector = RFE(estimator, i+1)\n",
    "    selector = selector.fit(X, y)\n",
    "    feature_nums = []\n",
    "    for j in xrange(len(selector.ranking_)):\n",
    "        if selector.ranking_[j] == 1:\n",
    "            feature_nums.append(j)\n",
    "    X1 = np.array([[X[g][j] for j in feature_nums] for g in xrange(len(X))])\n",
    "    scores.append(check_score(X1, y, svm_clf))\n",
    "\n",
    "for i in xrange(len(scores)):\n",
    "    print(i+1, scores[i])"
   ]
  },
  {
   "cell_type": "code",
   "execution_count": 5,
   "metadata": {},
   "outputs": [
    {
     "name": "stdout",
     "output_type": "stream",
     "text": [
      "(6, 'verb_in_name')\n",
      "(8, 'template')\n",
      "(7, 'is_inherited')\n",
      "(1, 'constructors')\n",
      "(1, 'total_methods')\n",
      "(1, 'nonpublic_methods')\n",
      "(1, 'static_methods')\n",
      "(1, 'biggest_method_size')\n",
      "(1, 'total_fields')\n",
      "(3, 'nonpublic_fields')\n",
      "(5, 'fields_class_refs')\n",
      "(1, 'getters')\n",
      "(1, 'setters')\n",
      "(1, 'CG_edges')\n",
      "(2, 'CG_no_entrance_vertexes')\n",
      "(1, 'CG_no_out_vertexes')\n",
      "(4, 'CG_comp_num')\n",
      "(1, 'CG_strong_comp_num')\n"
     ]
    },
    {
     "data": {
      "text/plain": [
       "[3, 4, 5, 6, 7, 8, 11, 12, 13, 15, 17]"
      ]
     },
     "execution_count": 5,
     "metadata": {},
     "output_type": "execute_result"
    }
   ],
   "source": [
    "# getting unimportant features\n",
    "\n",
    "feature_names = [ 'verb_in_name', 'template', 'is_inherited','constructors', 'total_methods',\n",
    "                  'nonpublic_methods', 'static_methods', 'biggest_method_size',\n",
    "                  'total_fields', 'nonpublic_fields', 'fields_class_refs', 'getters', 'setters',\n",
    "                  'CG_edges', 'CG_no_entrance_vertexes', 'CG_no_out_vertexes',\n",
    "                  'CG_comp_num', 'CG_strong_comp_num']\n",
    "X, y = clear()\n",
    "estimator = LinearSVC()\n",
    "selector = RFE(estimator, max_num)\n",
    "selector = selector.fit(X, y)\n",
    "feature_nums = []\n",
    "for i in xrange(len(selector.ranking_)):\n",
    "    if selector.ranking_[i] == 1:\n",
    "        feature_nums.append(i)\n",
    "    print(selector.ranking_[i], feature_names[i])\n",
    "feature_nums"
   ]
  },
  {
   "cell_type": "code",
   "execution_count": 6,
   "metadata": {},
   "outputs": [
    {
     "data": {
      "text/plain": [
       "0.93548387096774188"
      ]
     },
     "execution_count": 6,
     "metadata": {},
     "output_type": "execute_result"
    }
   ],
   "source": [
    "# cutting out unimportant features\n",
    "\n",
    "X, y = clear()\n",
    "XX = np.array([[X[g][j] for j in feature_nums] for g in xrange(len(X))])\n",
    "svm_clf = LinearSVC()\n",
    "check_score(XX, y, svm_clf)"
   ]
  },
  {
   "cell_type": "code",
   "execution_count": 7,
   "metadata": {},
   "outputs": [
    {
     "name": "stdout",
     "output_type": "stream",
     "text": [
      "0.935483870968\n",
      "0.916129032258\n",
      "0.935483870968\n",
      "0.909677419355\n"
     ]
    }
   ],
   "source": [
    "# тест других параметров алгоритма обучения\n",
    "\n",
    "X, y = clear(key_params=feature_nums)\n",
    "clfs = []\n",
    "clfs.append(LinearSVC())\n",
    "clfs.append(LinearSVC(loss='hinge'))\n",
    "clfs.append(LinearSVC(dual=False))\n",
    "clfs.append(LinearSVC(fit_intercept=False))\n",
    "for clf in clfs:\n",
    "    print check_score(X, y, clf)"
   ]
  },
  {
   "cell_type": "code",
   "execution_count": 8,
   "metadata": {
    "collapsed": true
   },
   "outputs": [],
   "source": [
    "def learn_stat(X, y, C):\n",
    "    \n",
    "    clf = LinearSVC(C=C)\n",
    "    score = check_score(X, y, clf)\n",
    "    predicted = cross_val_predict(clf, X, y, cv=10)\n",
    "    X_score = metrics.accuracy_score(y, predicted)\n",
    "    return X_score"
   ]
  },
  {
   "cell_type": "code",
   "execution_count": 9,
   "metadata": {
    "collapsed": true
   },
   "outputs": [],
   "source": [
    "def plot_stat(X, y, minC, maxC, steps, file_path):\n",
    "    from matplotlib.pyplot import savefig\n",
    "    opt_C = 0.001\n",
    "    max_score = 0.0\n",
    "    array = np.logspace(np.log10(minC), np.log10(maxC), steps)\n",
    "    scores = np.zeros(len(array))\n",
    "    vectors = np.zeros(len(array))\n",
    "    for i in xrange(len(array)):\n",
    "        scores[i] = learn_stat(X, y, array[i])\n",
    "        if scores[i] > max_score:\n",
    "            max_score = scores[i]\n",
    "            opt_C = array[i]\n",
    "            \n",
    "    pl.title(\"SVCL Score on C for linear\")  \n",
    "    pl.xscale('log')\n",
    "    pl.xlabel('C-value (log-scale)')\n",
    "    pl.plot(array, scores, label = 'X', color = 'r')\n",
    "    \n",
    "    pl.savefig(file_path)\n",
    "    \n",
    "    return opt_C, max_score"
   ]
  },
  {
   "cell_type": "code",
   "execution_count": 10,
   "metadata": {
    "collapsed": true
   },
   "outputs": [],
   "source": [
    "X, y = clear(key_params=feature_nums)"
   ]
  },
  {
   "cell_type": "code",
   "execution_count": 11,
   "metadata": {},
   "outputs": [
    {
     "name": "stdout",
     "output_type": "stream",
     "text": [
      "(0.32745491628777285, 0.9419354838709677)\n"
     ]
    },
    {
     "data": {
      "image/png": "[encoded data removed]",
      "text/plain": [
       "<matplotlib.figure.Figure at 0x7f780ae2e9d0>"
      ]
     },
     "metadata": {},
     "output_type": "display_data"
    }
   ],
   "source": [
    "opt_C, max_score = plot_stat(X, y, 0.01, 10000, 100, 'SVCL_C1.png')\n",
    "print(opt_C, max_score)"
   ]
  },
  {
   "cell_type": "code",
   "execution_count": 12,
   "metadata": {},
   "outputs": [
    {
     "name": "stdout",
     "output_type": "stream",
     "text": [
      "(0.30538555088334157, 0.9419354838709677)\n"
     ]
    },
    {
     "data": {
      "image/png": "[encoded data removed]",
      "text/plain": [
       "<matplotlib.figure.Figure at 0x7f7808b7ef50>"
      ]
     },
     "metadata": {},
     "output_type": "display_data"
    }
   ],
   "source": [
    "# Здесь смотрим на предыдущий график и уменьшаем интересующий нас диапазон параметра C\n",
    "# в целях достижения большей точности\n",
    "\n",
    "opt_C, max_score = plot_stat(X, y, 0.1, 10, 100, 'SVCL_C2.png')\n",
    "print(opt_C, max_score)"
   ]
  },
  {
   "cell_type": "code",
   "execution_count": 13,
   "metadata": {},
   "outputs": [
    {
     "name": "stdout",
     "output_type": "stream",
     "text": [
      "(4.1320124001153387, 0.92258064516129035)\n"
     ]
    },
    {
     "data": {
      "image/png": "[encoded data removed]",
      "text/plain": [
       "<matplotlib.figure.Figure at 0x7f7808ab7f10>"
      ]
     },
     "metadata": {},
     "output_type": "display_data"
    }
   ],
   "source": [
    "X, y = clear(key_params=[])\n",
    "opt_C_full, max_score_full = plot_stat(X, y, 0.1, 10, 100, 'SVCL_C0_full.png')\n",
    "print(opt_C_full, max_score_full)"
   ]
  },
  {
   "cell_type": "code",
   "execution_count": 14,
   "metadata": {},
   "outputs": [
    {
     "data": {
      "text/plain": [
       "['SVML_params.pkl']"
      ]
     },
     "execution_count": 14,
     "metadata": {},
     "output_type": "execute_result"
    }
   ],
   "source": [
    "X, y = clear(key_params=feature_nums)\n",
    "svm_clf = LinearSVC(C=opt_C)\n",
    "svm_clf.fit(X, y)\n",
    "coef = svm_clf.coef_\n",
    "from sklearn.externals import joblib\n",
    "joblib.dump(svm_clf, 'SVML_params.pkl') "
   ]
  },
  {
   "cell_type": "code",
   "execution_count": 15,
   "metadata": {},
   "outputs": [
    {
     "data": {
      "text/plain": [
       "['SVML_full_params.pkl']"
      ]
     },
     "execution_count": 15,
     "metadata": {},
     "output_type": "execute_result"
    }
   ],
   "source": [
    "X, y = clear(key_params=[])\n",
    "svm_clf = LinearSVC(C=opt_C_full)\n",
    "svm_clf.fit(X, y)\n",
    "coef_full = svm_clf.coef_\n",
    "from sklearn.externals import joblib\n",
    "joblib.dump(svm_clf, 'SVML_full_params.pkl') "
   ]
  },
  {
   "cell_type": "code",
   "execution_count": 18,
   "metadata": {},
   "outputs": [
    {
     "name": "stdout",
     "output_type": "stream",
     "text": [
      "Для полного набора признаков:\n",
      "C = 4.13201240012\n",
      "Точность = 0.922580645161\n",
      "Значимость признаков:\n",
      "[[ 0.04915568  0.         -0.00322354 -1.26176251  1.02880426  0.74569837\n",
      "   1.83346425  1.11378792  0.70592492 -0.38872821  0.13724256 -0.40287957\n",
      "  -1.48230744  0.32847789  0.88413885 -2.902719    0.2735982   1.30379655]]\n"
     ]
    }
   ],
   "source": [
    "print 'LinearSVC'\n",
    "print 'Для полного набора признаков:'\n",
    "print 'C =', opt_C_full\n",
    "print 'Точность =', max_score_full\n",
    "print 'Значимость признаков:'\n",
    "print coef_full"
   ]
  },
  {
   "cell_type": "code",
   "execution_count": 20,
   "metadata": {},
   "outputs": [
    {
     "name": "stdout",
     "output_type": "stream",
     "text": [
      "Для оптимального набора признаков:\n",
      "C =  0.305385550883\n",
      "Точность =  0.941935483871\n",
      "Значимость признаков:\n",
      "[[-0.52367877  0.51079991  0.70030994  1.30737201  0.82304278  0.65219886\n",
      "  -0.47363191 -0.37663159  0.3991406  -1.06884668  0.34867438]]\n"
     ]
    }
   ],
   "source": [
    "print 'LinearSVC'\n",
    "print 'Для оптимального набора признаков:'\n",
    "print 'C = ', opt_C\n",
    "print 'Точность = ', max_score\n",
    "print 'Значимость признаков:'\n",
    "print coef"
   ]
  }
 ],
 "metadata": {
  "kernelspec": {
   "display_name": "Python 3",
   "language": "python",
   "name": "python3"
  },
  "language_info": {
   "codemirror_mode": {
    "name": "ipython",
    "version": 3
   },
   "file_extension": ".py",
   "mimetype": "text/x-python",
   "name": "python",
   "nbconvert_exporter": "python",
   "pygments_lexer": "ipython3",
   "version": "3.6.4"
  }
 },
 "nbformat": 4,
 "nbformat_minor": 1
}
