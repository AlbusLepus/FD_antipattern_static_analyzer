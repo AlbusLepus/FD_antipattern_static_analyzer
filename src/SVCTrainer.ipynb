{
 "cells": [
  {
   "cell_type": "code",
   "execution_count": 1,
   "metadata": {
    "collapsed": false
   },
   "outputs": [],
   "source": [
    "import numpy as np\n",
    "import pylab as pl\n",
    "import matplotlib.pyplot as plt\n",
    "from sklearn import metrics\n",
    "from sklearn.model_selection import cross_val_predict\n",
    "from sklearn.svm import SVC\n",
    "%matplotlib inline\n",
    "import ReadingFile\n",
    "import PreprocessData\n",
    "\n",
    "def clear(key_params=[]):\n",
    "    X, y = ReadingFile.read_csv('TRAIN_CORPUS.csv')\n",
    "    X = PreprocessData.prepare_data(X, mode='save', key_features=key_params)\n",
    "    return X, y\n",
    "\n",
    "def check_score(X, y, clf, verbose=0):    \n",
    "    predicted = cross_val_predict(clf, X, y, cv=10, verbose=verbose)\n",
    "    return metrics.accuracy_score(y, predicted)"
   ]
  },
  {
   "cell_type": "code",
   "execution_count": 2,
   "metadata": {
    "collapsed": false
   },
   "outputs": [
    {
     "data": {
      "text/plain": [
       "SVC(C=1.0, cache_size=200, class_weight=None, coef0=0.0,\n",
       "  decision_function_shape=None, degree=3, gamma='auto', kernel='linear',\n",
       "  max_iter=-1, probability=False, random_state=None, shrinking=True,\n",
       "  tol=0.001, verbose=False)"
      ]
     },
     "execution_count": 2,
     "metadata": {},
     "output_type": "execute_result"
    }
   ],
   "source": [
    "X, y = clear()\n",
    "svm_clf = SVC(kernel='linear')\n",
    "svm_clf.fit(X, y)"
   ]
  },
  {
   "cell_type": "code",
   "execution_count": 3,
   "metadata": {
    "collapsed": false
   },
   "outputs": [
    {
     "data": {
      "text/plain": [
       "[0.80000000000000004, 0.89677419354838706, 0.91612903225806452]"
      ]
     },
     "execution_count": 3,
     "metadata": {},
     "output_type": "execute_result"
    }
   ],
   "source": [
    "# test feature transformation\n",
    "\n",
    "scores = []\n",
    "\n",
    "X, y = ReadingFile.read_csv('TRAIN_CORPUS.csv')\n",
    "scores.append(check_score(X, y, svm_clf))\n",
    "\n",
    "X, y = ReadingFile.read_csv('TRAIN_CORPUS.csv')\n",
    "scores.append(check_score(PreprocessData.prepare_features(X), y, svm_clf))\n",
    "\n",
    "X, y = ReadingFile.read_csv('TRAIN_CORPUS.csv')\n",
    "scores.append(check_score(PreprocessData.prepare_data(X, mode='save'), y, svm_clf))\n",
    "\n",
    "scores"
   ]
  },
  {
   "cell_type": "code",
   "execution_count": 6,
   "metadata": {
    "collapsed": false
   },
   "outputs": [
    {
     "name": "stdout",
     "output_type": "stream",
     "text": [
      "(1, 0.80645161290322576)\n",
      "(2, 0.80645161290322576)\n",
      "(3, 0.85806451612903223)\n",
      "(4, 0.87096774193548387)\n",
      "(5, 0.9096774193548387)\n",
      "(6, 0.9096774193548387)\n",
      "(7, 0.9096774193548387)\n",
      "(8, 0.92903225806451617)\n",
      "(9, 0.92258064516129035)\n",
      "(10, 0.92258064516129035)\n",
      "(11, 0.92903225806451617)\n",
      "(12, 0.91612903225806452)\n",
      "(13, 0.92258064516129035)\n",
      "(14, 0.90322580645161288)\n",
      "(15, 0.89032258064516134)\n",
      "(16, 0.90322580645161288)\n",
      "(17, 0.91612903225806452)\n",
      "(18, 0.91612903225806452)\n"
     ]
    }
   ],
   "source": [
    "# test feature importances\n",
    "\n",
    "from sklearn.feature_selection import RFE\n",
    "scores = []\n",
    "\n",
    "for i in xrange(18):\n",
    "    X, y = clear()\n",
    "    estimator = SVC(kernel='linear')\n",
    "    selector = RFE(estimator, i+1)\n",
    "    selector = selector.fit(X, y)\n",
    "    feature_nums = []\n",
    "    for j in xrange(len(selector.ranking_)):\n",
    "        if selector.ranking_[j] == 1:\n",
    "            feature_nums.append(j)\n",
    "    X1 = np.array([[X[g][j] for j in feature_nums] for g in xrange(len(X))])\n",
    "    scores.append(check_score(X1, y, svm_clf))\n",
    "\n",
    "max_num = 1\n",
    "for i in xrange(len(scores)):\n",
    "    print(i+1, scores[i])\n",
    "    if scores[i] >= scores[max_num - 1]:\n",
    "        max_num = i + 1"
   ]
  },
  {
   "cell_type": "code",
   "execution_count": 7,
   "metadata": {
    "collapsed": false
   },
   "outputs": [
    {
     "name": "stdout",
     "output_type": "stream",
     "text": [
      "(6, 'verb_in_name')\n",
      "(8, 'template')\n",
      "(7, 'is_inherited')\n",
      "(1, 'constructors')\n",
      "(1, 'total_methods')\n",
      "(1, 'nonpublic_methods')\n",
      "(1, 'static_methods')\n",
      "(1, 'biggest_method_size')\n",
      "(1, 'total_fields')\n",
      "(4, 'nonpublic_fields')\n",
      "(3, 'fields_class_refs')\n",
      "(1, 'getters')\n",
      "(2, 'setters')\n",
      "(1, 'CG_edges')\n",
      "(5, 'CG_no_entrance_vertexes')\n",
      "(1, 'CG_no_out_vertexes')\n",
      "(1, 'CG_comp_num')\n",
      "(1, 'CG_strong_comp_num')\n"
     ]
    },
    {
     "data": {
      "text/plain": [
       "[3, 4, 5, 6, 7, 8, 11, 13, 15, 16, 17]"
      ]
     },
     "execution_count": 7,
     "metadata": {},
     "output_type": "execute_result"
    }
   ],
   "source": [
    "# getting unimportant features\n",
    "\n",
    "feature_names = [ 'verb_in_name', 'template', 'is_inherited','constructors', 'total_methods',\n",
    "                  'nonpublic_methods', 'static_methods', 'biggest_method_size',\n",
    "                  'total_fields', 'nonpublic_fields', 'fields_class_refs', 'getters', 'setters',\n",
    "                  'CG_edges', 'CG_no_entrance_vertexes', 'CG_no_out_vertexes',\n",
    "                  'CG_comp_num', 'CG_strong_comp_num']\n",
    "X, y = clear()\n",
    "estimator = SVC(kernel='linear')\n",
    "selector = RFE(estimator, max_num)\n",
    "selector = selector.fit(X, y)\n",
    "feature_nums = []\n",
    "for i in xrange(len(selector.ranking_)):\n",
    "    if selector.ranking_[i] == 1:\n",
    "        feature_nums.append(i)\n",
    "    print(selector.ranking_[i], feature_names[i])\n",
    "feature_nums"
   ]
  },
  {
   "cell_type": "code",
   "execution_count": 8,
   "metadata": {
    "collapsed": false
   },
   "outputs": [
    {
     "data": {
      "text/plain": [
       "0.92903225806451617"
      ]
     },
     "execution_count": 8,
     "metadata": {},
     "output_type": "execute_result"
    }
   ],
   "source": [
    "# cutting out unimportant features\n",
    "\n",
    "X, y = clear()\n",
    "XX = np.array([[X[g][j] for j in feature_nums] for g in xrange(len(X))])\n",
    "svm_clf = SVC(kernel='linear')\n",
    "check_score(XX, y, svm_clf)"
   ]
  },
  {
   "cell_type": "code",
   "execution_count": 9,
   "metadata": {
    "collapsed": false
   },
   "outputs": [
    {
     "name": "stdout",
     "output_type": "stream",
     "text": [
      "0.929032258065\n"
     ]
    }
   ],
   "source": [
    "# тест других параметров алгоритма обучения\n",
    "\n",
    "X, y = clear(key_params=feature_nums)\n",
    "clfs = []\n",
    "clfs.append(SVC(kernel='linear'))\n",
    "for clf in clfs:\n",
    "    print check_score(X, y, clf)"
   ]
  },
  {
   "cell_type": "code",
   "execution_count": 10,
   "metadata": {
    "collapsed": true
   },
   "outputs": [],
   "source": [
    "def learn_stat(X, y, C):\n",
    "    \n",
    "    clf = SVC(kernel='linear', C=C)\n",
    "    score = check_score(X, y, clf)\n",
    "    predicted = cross_val_predict(clf, X, y, cv=10)\n",
    "    X_score = metrics.accuracy_score(y, predicted)\n",
    "    return X_score"
   ]
  },
  {
   "cell_type": "code",
   "execution_count": 11,
   "metadata": {
    "collapsed": true
   },
   "outputs": [],
   "source": [
    "def plot_stat(X, y, minC, maxC, steps, file_path):\n",
    "    from matplotlib.pyplot import savefig\n",
    "    opt_C = 0.001\n",
    "    max_score = 0.0\n",
    "    array = np.logspace(np.log10(minC), np.log10(maxC), steps)\n",
    "    scores = np.zeros(len(array))\n",
    "    vectors = np.zeros(len(array))\n",
    "    for i in xrange(len(array)):\n",
    "        scores[i] = learn_stat(X, y, array[i])\n",
    "        if scores[i] > max_score:\n",
    "            max_score = scores[i]\n",
    "            opt_C = array[i]\n",
    "            \n",
    "    pl.title(\"SVC Score on C for linear\")  \n",
    "    pl.xscale('log')\n",
    "    pl.xlabel('C-value (log-scale)')\n",
    "    pl.plot(array, scores, label = 'X', color = 'r')\n",
    "    \n",
    "    pl.savefig(file_path)\n",
    "    \n",
    "    return opt_C, max_score"
   ]
  },
  {
   "cell_type": "code",
   "execution_count": 12,
   "metadata": {
    "collapsed": true
   },
   "outputs": [],
   "source": [
    "X, y = clear(key_params=feature_nums)"
   ]
  },
  {
   "cell_type": "code",
   "execution_count": 13,
   "metadata": {
    "collapsed": false
   },
   "outputs": [
    {
     "name": "stdout",
     "output_type": "stream",
     "text": [
      "(1.5556761439304723, 0.9419354838709677)\n"
     ]
    },
    {
     "data": {
      "image/png": "[encoded data removed]",
      "text/plain": [
       "<matplotlib.figure.Figure at 0x7f68b6a49a10>"
      ]
     },
     "metadata": {},
     "output_type": "display_data"
    }
   ],
   "source": [
    "opt_C, max_score = plot_stat(X, y, 0.01, 100000, 100, 'SVC_C1.png')\n",
    "print(opt_C, max_score)"
   ]
  },
  {
   "cell_type": "code",
   "execution_count": 14,
   "metadata": {
    "collapsed": false
   },
   "outputs": [
    {
     "name": "stdout",
     "output_type": "stream",
     "text": [
      "(1.4174741629268053, 0.9419354838709677)\n"
     ]
    },
    {
     "data": {
      "image/png": "[encoded data removed]",
      "text/plain": [
       "<matplotlib.figure.Figure at 0x7f68b45cd650>"
      ]
     },
     "metadata": {},
     "output_type": "display_data"
    }
   ],
   "source": [
    "# Здесь смотрим на предыдущий график и уменьшаем интересующий нас диапазон параметра C\n",
    "# в целях достижения большей точности\n",
    "\n",
    "opt_C, max_score = plot_stat(X, y, 1, 10, 100, 'SVC_C2.png')\n",
    "print(opt_C, max_score)"
   ]
  },
  {
   "cell_type": "code",
   "execution_count": 16,
   "metadata": {
    "collapsed": false
   },
   "outputs": [
    {
     "name": "stdout",
     "output_type": "stream",
     "text": [
      "(2.915053062825177, 0.92258064516129035)\n"
     ]
    },
    {
     "data": {
      "image/png": "[encoded data removed]",
      "text/plain": [
       "<matplotlib.figure.Figure at 0x7f68b4717ed0>"
      ]
     },
     "metadata": {},
     "output_type": "display_data"
    }
   ],
   "source": [
    "X, y = clear(key_params=[])\n",
    "opt_C_full, max_score_full = plot_stat(X, y, 1, 10, 100, 'SVC_C0_full.png')\n",
    "print(opt_C_full, max_score_full)"
   ]
  },
  {
   "cell_type": "code",
   "execution_count": 17,
   "metadata": {
    "collapsed": false
   },
   "outputs": [
    {
     "data": {
      "text/plain": [
       "['SVM_params.pkl']"
      ]
     },
     "execution_count": 17,
     "metadata": {},
     "output_type": "execute_result"
    }
   ],
   "source": [
    "X, y = clear(key_params=feature_nums)\n",
    "svm_clf = SVC(kernel='linear', C=opt_C)\n",
    "svm_clf.fit(X, y)\n",
    "coef = svm_clf.coef_\n",
    "from sklearn.externals import joblib\n",
    "joblib.dump(svm_clf, 'SVM_params.pkl') "
   ]
  },
  {
   "cell_type": "code",
   "execution_count": 18,
   "metadata": {
    "collapsed": false
   },
   "outputs": [
    {
     "data": {
      "text/plain": [
       "['SVM_full_params.pkl']"
      ]
     },
     "execution_count": 18,
     "metadata": {},
     "output_type": "execute_result"
    }
   ],
   "source": [
    "X, y = clear(key_params=[])\n",
    "svm_clf = SVC(kernel='linear', C=opt_C_full)\n",
    "svm_clf.fit(X, y)\n",
    "from sklearn.externals import joblib\n",
    "joblib.dump(svm_clf, 'SVM_full_params.pkl') "
   ]
  },
  {
   "cell_type": "code",
   "execution_count": 21,
   "metadata": {
    "collapsed": false
   },
   "outputs": [
    {
     "name": "stdout",
     "output_type": "stream",
     "text": [
      "SVC с линейным ядром\n",
      "Для полного набора признаков:\n",
      "C = 2.91505306283\n",
      "Точность = 0.922580645161\n"
     ]
    }
   ],
   "source": [
    "print 'SVC с линейным ядром'\n",
    "print 'Для полного набора признаков:'\n",
    "print 'C =', opt_C_full\n",
    "print 'Точность =', max_score_full"
   ]
  },
  {
   "cell_type": "code",
   "execution_count": 22,
   "metadata": {
    "collapsed": false
   },
   "outputs": [
    {
     "name": "stdout",
     "output_type": "stream",
     "text": [
      "SVC с линейным ядром\n",
      "Для оптимального набора признаков:\n",
      "C =  1.41747416293\n",
      "Точность =  0.941935483871\n"
     ]
    }
   ],
   "source": [
    "print 'SVC с линейным ядром'\n",
    "print 'Для оптимального набора признаков:'\n",
    "print 'C = ', opt_C\n",
    "print 'Точность = ', max_score"
   ]
  }
 ],
 "metadata": {
  "kernelspec": {
   "display_name": "Python 2",
   "language": "python",
   "name": "python2"
  },
  "language_info": {
   "codemirror_mode": {
    "name": "ipython",
    "version": 2
   },
   "file_extension": ".py",
   "mimetype": "text/x-python",
   "name": "python",
   "nbconvert_exporter": "python",
   "pygments_lexer": "ipython2",
   "version": "2.7.12"
  }
 },
 "nbformat": 4,
 "nbformat_minor": 1
}
